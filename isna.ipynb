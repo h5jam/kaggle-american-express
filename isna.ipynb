{
 "cells": [
  {
   "cell_type": "code",
   "execution_count": 1,
   "id": "c09e5721-8a25-4b8b-b628-2bfd4285969e",
   "metadata": {
    "canvas": {
     "comments": [],
     "componentType": "CodeCell",
     "copiedOriginId": null,
     "headerColor": "inherit",
     "id": "4d04fb87-325b-4668-9be7-a7c9badad4b9",
     "isComponent": false,
     "name": "",
     "parents": []
    },
    "tags": []
   },
   "outputs": [],
   "source": [
    "import pandas as pd\n",
    "import numpy as np\n",
    "import pickle\n",
    "from matplotlib import pyplot as plt\n",
    "import seaborn as sns"
   ]
  },
  {
   "cell_type": "code",
   "execution_count": 2,
   "id": "d80ceeae-fc58-41a2-894d-0b8693a06a5f",
   "metadata": {
    "canvas": {
     "comments": [],
     "componentType": "CodeCell",
     "copiedOriginId": null,
     "headerColor": "inherit",
     "id": "9a7460e2-aa42-4cd5-905a-468f0007d294",
     "isComponent": false,
     "name": "",
     "parents": []
    }
   },
   "outputs": [
    {
     "name": "stdout",
     "output_type": "stream",
     "text": [
      "Wall time: 14.1 s\n"
     ]
    }
   ],
   "source": [
    "%%time\n",
    "train = pd.read_feather('../Downloads/input/train_data.ftr')\n",
    "test = pd.read_feather('./Downloads/input/test_data.ftr')"
   ]
  },
  {
   "cell_type": "code",
   "execution_count": 3,
   "id": "d06280be-9465-4ac1-8522-76e2ceebb06c",
   "metadata": {
    "canvas": {
     "comments": [],
     "componentType": "CodeCell",
     "copiedOriginId": null,
     "headerColor": "inherit",
     "id": "0e34f7db-e270-49b7-b6b7-4733db2c2eda",
     "isComponent": false,
     "name": "",
     "parents": []
    }
   },
   "outputs": [],
   "source": [
    "nan_count = train.isna().sum() / 5531451"
   ]
  },
  {
   "cell_type": "markdown",
   "id": "987dce8c-756d-4e52-b7ef-0589f6610515",
   "metadata": {
    "canvas": {
     "comments": [],
     "componentType": "CodeCell",
     "copiedOriginId": null,
     "headerColor": "inherit",
     "id": "20bb8435-5113-4ff5-8ca0-99ae9432b2fb",
     "isComponent": false,
     "name": "",
     "parents": []
    }
   },
   "source": [
    "nancount.sort_values()"
   ]
  },
  {
   "cell_type": "code",
   "execution_count": 4,
   "id": "519b4be5-5226-460a-ac73-e10d6b660496",
   "metadata": {
    "canvas": {
     "comments": [],
     "componentType": "CodeCell",
     "copiedOriginId": null,
     "headerColor": "inherit",
     "id": "d423db72-7454-4677-82ba-03188988876d",
     "isComponent": false,
     "name": "",
     "parents": []
    }
   },
   "outputs": [],
   "source": [
    "nan_count = nan_count.sort_values(ascending=False)"
   ]
  },
  {
   "cell_type": "code",
   "execution_count": 5,
   "id": "296e58e9-b7cb-4148-b275-9ccd1476ee73",
   "metadata": {
    "canvas": {
     "comments": [],
     "componentType": "CodeCell",
     "copiedOriginId": null,
     "headerColor": "inherit",
     "id": "8cfd2873-4753-45d9-8d18-24e1caf3b5a3",
     "isComponent": false,
     "name": "",
     "parents": []
    }
   },
   "outputs": [],
   "source": [
    "nan_feature = nan_count.index"
   ]
  },
  {
   "cell_type": "code",
   "execution_count": 6,
   "id": "d489e57a-d126-4763-974e-c6985ce76c50",
   "metadata": {
    "canvas": {
     "comments": [],
     "componentType": "CodeCell",
     "copiedOriginId": null,
     "headerColor": "inherit",
     "id": "3261482d-6b2c-46bf-8de6-283ca5dac9d8",
     "isComponent": false,
     "name": "",
     "parents": []
    }
   },
   "outputs": [],
   "source": [
    "nan_prob = list(nan_count)"
   ]
  },
  {
   "cell_type": "code",
   "execution_count": 7,
   "id": "c7678862-67b1-4797-a15c-ec8c770d25b9",
   "metadata": {
    "canvas": {
     "comments": [],
     "componentType": "CodeCell",
     "copiedOriginId": null,
     "headerColor": "inherit",
     "id": "275d7d7d-b17b-4bf9-84ae-9ffce1b6cc80",
     "isComponent": false,
     "name": "",
     "parents": []
    }
   },
   "outputs": [
    {
     "data": {
      "text/plain": [
       "<BarContainer object of 31 artists>"
      ]
     },
     "execution_count": 7,
     "metadata": {},
     "output_type": "execute_result"
    },
    {
     "data": {
      "image/png": "[encoded data removed]",
      "text/plain": [
       "<Figure size 432x288 with 1 Axes>"
      ]
     },
     "metadata": {
      "needs_background": "light"
     },
     "output_type": "display_data"
    }
   ],
   "source": [
    "plt.xticks(rotation=90)\n",
    "plt.bar(nan_feature[:31], nan_prob[:31])"
   ]
  },
  {
   "cell_type": "code",
   "execution_count": 8,
   "id": "d7b5ffcb-e8af-472e-be3b-4c2e21ffdc1a",
   "metadata": {
    "canvas": {
     "comments": [],
     "componentType": "CodeCell",
     "copiedOriginId": null,
     "headerColor": "inherit",
     "id": "75bb74bc-b81f-4c93-929a-ecfd43ca22dd",
     "isComponent": false,
     "name": "",
     "parents": []
    }
   },
   "outputs": [
    {
     "name": "stdout",
     "output_type": "stream",
     "text": [
      "Index(['D_87', 'D_88', 'D_108', 'D_111', 'D_110', 'B_39', 'D_73', 'B_42',\n",
      "       'D_136', 'D_138', 'D_137', 'D_135', 'D_134', 'R_9', 'B_29', 'D_106',\n",
      "       'D_132', 'D_49', 'R_26', 'D_76', 'D_66', 'D_42', 'D_142', 'D_53',\n",
      "       'D_82', 'D_50', 'B_17', 'D_105', 'D_56', 'S_9', 'D_77'],\n",
      "      dtype='object')\n"
     ]
    }
   ],
   "source": [
    "print(nan_feature[:31])"
   ]
  },
  {
   "cell_type": "code",
   "execution_count": 9,
   "id": "08e47a6d-d6c5-40aa-b75d-f309faef9d0e",
   "metadata": {
    "canvas": {
     "comments": [],
     "componentType": "CodeCell",
     "copiedOriginId": null,
     "headerColor": "inherit",
     "id": "7e14dc89-52e5-465d-9b12-30b073c390b3",
     "isComponent": false,
     "name": "",
     "parents": []
    }
   },
   "outputs": [
    {
     "data": {
      "text/html": [
       "<div>\n",
       "<style scoped>\n",
       "    .dataframe tbody tr th:only-of-type {\n",
       "        vertical-align: middle;\n",
       "    }\n",
       "\n",
       "    .dataframe tbody tr th {\n",
       "        vertical-align: top;\n",
       "    }\n",
       "\n",
       "    .dataframe thead th {\n",
       "        text-align: right;\n",
       "    }\n",
       "</style>\n",
       "<table border=\"1\" class=\"dataframe\">\n",
       "  <thead>\n",
       "    <tr style=\"text-align: right;\">\n",
       "      <th></th>\n",
       "      <th>customer_ID</th>\n",
       "      <th>S_2</th>\n",
       "      <th>P_2</th>\n",
       "      <th>D_39</th>\n",
       "      <th>B_1</th>\n",
       "      <th>B_2</th>\n",
       "      <th>R_1</th>\n",
       "      <th>S_3</th>\n",
       "      <th>D_41</th>\n",
       "      <th>B_3</th>\n",
       "      <th>...</th>\n",
       "      <th>D_137</th>\n",
       "      <th>D_138</th>\n",
       "      <th>D_139</th>\n",
       "      <th>D_140</th>\n",
       "      <th>D_141</th>\n",
       "      <th>D_142</th>\n",
       "      <th>D_143</th>\n",
       "      <th>D_144</th>\n",
       "      <th>D_145</th>\n",
       "      <th>target</th>\n",
       "    </tr>\n",
       "  </thead>\n",
       "  <tbody>\n",
       "    <tr>\n",
       "      <th>85</th>\n",
       "      <td>000098081fde4fd64bc4d503a5d6f86a0aedc425c96f52...</td>\n",
       "      <td>2017-10-15</td>\n",
       "      <td>0.560547</td>\n",
       "      <td>0.001537</td>\n",
       "      <td>0.090820</td>\n",
       "      <td>0.046112</td>\n",
       "      <td>0.006817</td>\n",
       "      <td>0.302246</td>\n",
       "      <td>0.006668</td>\n",
       "      <td>0.217651</td>\n",
       "      <td>...</td>\n",
       "      <td>NaN</td>\n",
       "      <td>NaN</td>\n",
       "      <td>0.001369</td>\n",
       "      <td>0.004536</td>\n",
       "      <td>0.009895</td>\n",
       "      <td>NaN</td>\n",
       "      <td>0.000866</td>\n",
       "      <td>0.006989</td>\n",
       "      <td>0.005821</td>\n",
       "      <td>0</td>\n",
       "    </tr>\n",
       "    <tr>\n",
       "      <th>86</th>\n",
       "      <td>000098081fde4fd64bc4d503a5d6f86a0aedc425c96f52...</td>\n",
       "      <td>2017-11-10</td>\n",
       "      <td>0.407227</td>\n",
       "      <td>0.001548</td>\n",
       "      <td>0.106140</td>\n",
       "      <td>0.048553</td>\n",
       "      <td>0.001353</td>\n",
       "      <td>0.330078</td>\n",
       "      <td>0.009186</td>\n",
       "      <td>0.223145</td>\n",
       "      <td>...</td>\n",
       "      <td>NaN</td>\n",
       "      <td>NaN</td>\n",
       "      <td>0.000510</td>\n",
       "      <td>0.001478</td>\n",
       "      <td>0.009911</td>\n",
       "      <td>NaN</td>\n",
       "      <td>0.004616</td>\n",
       "      <td>0.007919</td>\n",
       "      <td>0.006710</td>\n",
       "      <td>0</td>\n",
       "    </tr>\n",
       "    <tr>\n",
       "      <th>89</th>\n",
       "      <td>000098081fde4fd64bc4d503a5d6f86a0aedc425c96f52...</td>\n",
       "      <td>2018-02-09</td>\n",
       "      <td>0.451904</td>\n",
       "      <td>0.035889</td>\n",
       "      <td>0.098999</td>\n",
       "      <td>0.040894</td>\n",
       "      <td>0.004704</td>\n",
       "      <td>0.326904</td>\n",
       "      <td>0.003599</td>\n",
       "      <td>0.230835</td>\n",
       "      <td>...</td>\n",
       "      <td>NaN</td>\n",
       "      <td>NaN</td>\n",
       "      <td>0.006390</td>\n",
       "      <td>0.001293</td>\n",
       "      <td>0.007359</td>\n",
       "      <td>NaN</td>\n",
       "      <td>0.002205</td>\n",
       "      <td>0.008423</td>\n",
       "      <td>0.006954</td>\n",
       "      <td>0</td>\n",
       "    </tr>\n",
       "    <tr>\n",
       "      <th>104</th>\n",
       "      <td>0000f99513770170a1aba690daeeb8a96da4a39f11fc27...</td>\n",
       "      <td>2017-03-15</td>\n",
       "      <td>0.400146</td>\n",
       "      <td>0.000278</td>\n",
       "      <td>0.955078</td>\n",
       "      <td>0.023895</td>\n",
       "      <td>0.003139</td>\n",
       "      <td>NaN</td>\n",
       "      <td>0.008423</td>\n",
       "      <td>1.174805</td>\n",
       "      <td>...</td>\n",
       "      <td>NaN</td>\n",
       "      <td>NaN</td>\n",
       "      <td>1.002930</td>\n",
       "      <td>0.001169</td>\n",
       "      <td>0.870117</td>\n",
       "      <td>0.141235</td>\n",
       "      <td>1.003906</td>\n",
       "      <td>0.008949</td>\n",
       "      <td>0.736816</td>\n",
       "      <td>1</td>\n",
       "    </tr>\n",
       "    <tr>\n",
       "      <th>105</th>\n",
       "      <td>0000f99513770170a1aba690daeeb8a96da4a39f11fc27...</td>\n",
       "      <td>2017-04-14</td>\n",
       "      <td>0.405762</td>\n",
       "      <td>0.000269</td>\n",
       "      <td>0.943848</td>\n",
       "      <td>0.025620</td>\n",
       "      <td>0.008949</td>\n",
       "      <td>NaN</td>\n",
       "      <td>0.003708</td>\n",
       "      <td>1.177734</td>\n",
       "      <td>...</td>\n",
       "      <td>NaN</td>\n",
       "      <td>NaN</td>\n",
       "      <td>1.005859</td>\n",
       "      <td>0.003117</td>\n",
       "      <td>0.864746</td>\n",
       "      <td>0.145874</td>\n",
       "      <td>1.004883</td>\n",
       "      <td>0.002125</td>\n",
       "      <td>0.733398</td>\n",
       "      <td>1</td>\n",
       "    </tr>\n",
       "    <tr>\n",
       "      <th>...</th>\n",
       "      <td>...</td>\n",
       "      <td>...</td>\n",
       "      <td>...</td>\n",
       "      <td>...</td>\n",
       "      <td>...</td>\n",
       "      <td>...</td>\n",
       "      <td>...</td>\n",
       "      <td>...</td>\n",
       "      <td>...</td>\n",
       "      <td>...</td>\n",
       "      <td>...</td>\n",
       "      <td>...</td>\n",
       "      <td>...</td>\n",
       "      <td>...</td>\n",
       "      <td>...</td>\n",
       "      <td>...</td>\n",
       "      <td>...</td>\n",
       "      <td>...</td>\n",
       "      <td>...</td>\n",
       "      <td>...</td>\n",
       "      <td>...</td>\n",
       "    </tr>\n",
       "    <tr>\n",
       "      <th>5531405</th>\n",
       "      <td>ffff518bb2075e4816ee3fe9f3b152c57fc0e6f01bf7fd...</td>\n",
       "      <td>2017-09-21</td>\n",
       "      <td>0.864746</td>\n",
       "      <td>0.036346</td>\n",
       "      <td>0.359619</td>\n",
       "      <td>0.041626</td>\n",
       "      <td>0.008705</td>\n",
       "      <td>0.194702</td>\n",
       "      <td>0.007206</td>\n",
       "      <td>0.269531</td>\n",
       "      <td>...</td>\n",
       "      <td>NaN</td>\n",
       "      <td>NaN</td>\n",
       "      <td>0.005814</td>\n",
       "      <td>0.002701</td>\n",
       "      <td>0.004963</td>\n",
       "      <td>NaN</td>\n",
       "      <td>0.008591</td>\n",
       "      <td>0.009415</td>\n",
       "      <td>0.007069</td>\n",
       "      <td>0</td>\n",
       "    </tr>\n",
       "    <tr>\n",
       "      <th>5531406</th>\n",
       "      <td>ffff518bb2075e4816ee3fe9f3b152c57fc0e6f01bf7fd...</td>\n",
       "      <td>2017-10-21</td>\n",
       "      <td>0.866699</td>\n",
       "      <td>0.033203</td>\n",
       "      <td>0.350586</td>\n",
       "      <td>0.044189</td>\n",
       "      <td>0.002415</td>\n",
       "      <td>NaN</td>\n",
       "      <td>0.003010</td>\n",
       "      <td>0.267578</td>\n",
       "      <td>...</td>\n",
       "      <td>NaN</td>\n",
       "      <td>NaN</td>\n",
       "      <td>0.009224</td>\n",
       "      <td>0.001355</td>\n",
       "      <td>0.004776</td>\n",
       "      <td>NaN</td>\n",
       "      <td>0.003016</td>\n",
       "      <td>0.001254</td>\n",
       "      <td>0.007778</td>\n",
       "      <td>0</td>\n",
       "    </tr>\n",
       "    <tr>\n",
       "      <th>5531407</th>\n",
       "      <td>ffff518bb2075e4816ee3fe9f3b152c57fc0e6f01bf7fd...</td>\n",
       "      <td>2017-11-21</td>\n",
       "      <td>0.868164</td>\n",
       "      <td>0.037201</td>\n",
       "      <td>0.340332</td>\n",
       "      <td>0.044678</td>\n",
       "      <td>0.005035</td>\n",
       "      <td>NaN</td>\n",
       "      <td>0.003029</td>\n",
       "      <td>0.253662</td>\n",
       "      <td>...</td>\n",
       "      <td>NaN</td>\n",
       "      <td>NaN</td>\n",
       "      <td>0.006607</td>\n",
       "      <td>0.000319</td>\n",
       "      <td>0.009674</td>\n",
       "      <td>NaN</td>\n",
       "      <td>0.004288</td>\n",
       "      <td>0.002300</td>\n",
       "      <td>0.006504</td>\n",
       "      <td>0</td>\n",
       "    </tr>\n",
       "    <tr>\n",
       "      <th>5531408</th>\n",
       "      <td>ffff518bb2075e4816ee3fe9f3b152c57fc0e6f01bf7fd...</td>\n",
       "      <td>2017-12-22</td>\n",
       "      <td>0.868164</td>\n",
       "      <td>0.034271</td>\n",
       "      <td>0.331543</td>\n",
       "      <td>0.042572</td>\n",
       "      <td>0.000568</td>\n",
       "      <td>NaN</td>\n",
       "      <td>0.003584</td>\n",
       "      <td>0.255127</td>\n",
       "      <td>...</td>\n",
       "      <td>NaN</td>\n",
       "      <td>NaN</td>\n",
       "      <td>0.002993</td>\n",
       "      <td>0.005505</td>\n",
       "      <td>0.005753</td>\n",
       "      <td>NaN</td>\n",
       "      <td>0.000594</td>\n",
       "      <td>0.004757</td>\n",
       "      <td>0.003952</td>\n",
       "      <td>0</td>\n",
       "    </tr>\n",
       "    <tr>\n",
       "      <th>5531409</th>\n",
       "      <td>ffff518bb2075e4816ee3fe9f3b152c57fc0e6f01bf7fd...</td>\n",
       "      <td>2018-01-22</td>\n",
       "      <td>0.856445</td>\n",
       "      <td>0.036163</td>\n",
       "      <td>0.319092</td>\n",
       "      <td>0.044739</td>\n",
       "      <td>0.008858</td>\n",
       "      <td>NaN</td>\n",
       "      <td>0.005020</td>\n",
       "      <td>0.256104</td>\n",
       "      <td>...</td>\n",
       "      <td>NaN</td>\n",
       "      <td>NaN</td>\n",
       "      <td>0.002531</td>\n",
       "      <td>0.007389</td>\n",
       "      <td>0.003149</td>\n",
       "      <td>NaN</td>\n",
       "      <td>0.007442</td>\n",
       "      <td>0.005508</td>\n",
       "      <td>0.002928</td>\n",
       "      <td>0</td>\n",
       "    </tr>\n",
       "  </tbody>\n",
       "</table>\n",
       "<p>820788 rows × 191 columns</p>\n",
       "</div>"
      ],
      "text/plain": [
       "                                               customer_ID        S_2  \\\n",
       "85       000098081fde4fd64bc4d503a5d6f86a0aedc425c96f52... 2017-10-15   \n",
       "86       000098081fde4fd64bc4d503a5d6f86a0aedc425c96f52... 2017-11-10   \n",
       "89       000098081fde4fd64bc4d503a5d6f86a0aedc425c96f52... 2018-02-09   \n",
       "104      0000f99513770170a1aba690daeeb8a96da4a39f11fc27... 2017-03-15   \n",
       "105      0000f99513770170a1aba690daeeb8a96da4a39f11fc27... 2017-04-14   \n",
       "...                                                    ...        ...   \n",
       "5531405  ffff518bb2075e4816ee3fe9f3b152c57fc0e6f01bf7fd... 2017-09-21   \n",
       "5531406  ffff518bb2075e4816ee3fe9f3b152c57fc0e6f01bf7fd... 2017-10-21   \n",
       "5531407  ffff518bb2075e4816ee3fe9f3b152c57fc0e6f01bf7fd... 2017-11-21   \n",
       "5531408  ffff518bb2075e4816ee3fe9f3b152c57fc0e6f01bf7fd... 2017-12-22   \n",
       "5531409  ffff518bb2075e4816ee3fe9f3b152c57fc0e6f01bf7fd... 2018-01-22   \n",
       "\n",
       "              P_2      D_39       B_1       B_2       R_1       S_3      D_41  \\\n",
       "85       0.560547  0.001537  0.090820  0.046112  0.006817  0.302246  0.006668   \n",
       "86       0.407227  0.001548  0.106140  0.048553  0.001353  0.330078  0.009186   \n",
       "89       0.451904  0.035889  0.098999  0.040894  0.004704  0.326904  0.003599   \n",
       "104      0.400146  0.000278  0.955078  0.023895  0.003139       NaN  0.008423   \n",
       "105      0.405762  0.000269  0.943848  0.025620  0.008949       NaN  0.003708   \n",
       "...           ...       ...       ...       ...       ...       ...       ...   \n",
       "5531405  0.864746  0.036346  0.359619  0.041626  0.008705  0.194702  0.007206   \n",
       "5531406  0.866699  0.033203  0.350586  0.044189  0.002415       NaN  0.003010   \n",
       "5531407  0.868164  0.037201  0.340332  0.044678  0.005035       NaN  0.003029   \n",
       "5531408  0.868164  0.034271  0.331543  0.042572  0.000568       NaN  0.003584   \n",
       "5531409  0.856445  0.036163  0.319092  0.044739  0.008858       NaN  0.005020   \n",
       "\n",
       "              B_3  ...  D_137  D_138     D_139     D_140     D_141     D_142  \\\n",
       "85       0.217651  ...    NaN    NaN  0.001369  0.004536  0.009895       NaN   \n",
       "86       0.223145  ...    NaN    NaN  0.000510  0.001478  0.009911       NaN   \n",
       "89       0.230835  ...    NaN    NaN  0.006390  0.001293  0.007359       NaN   \n",
       "104      1.174805  ...    NaN    NaN  1.002930  0.001169  0.870117  0.141235   \n",
       "105      1.177734  ...    NaN    NaN  1.005859  0.003117  0.864746  0.145874   \n",
       "...           ...  ...    ...    ...       ...       ...       ...       ...   \n",
       "5531405  0.269531  ...    NaN    NaN  0.005814  0.002701  0.004963       NaN   \n",
       "5531406  0.267578  ...    NaN    NaN  0.009224  0.001355  0.004776       NaN   \n",
       "5531407  0.253662  ...    NaN    NaN  0.006607  0.000319  0.009674       NaN   \n",
       "5531408  0.255127  ...    NaN    NaN  0.002993  0.005505  0.005753       NaN   \n",
       "5531409  0.256104  ...    NaN    NaN  0.002531  0.007389  0.003149       NaN   \n",
       "\n",
       "            D_143     D_144     D_145  target  \n",
       "85       0.000866  0.006989  0.005821       0  \n",
       "86       0.004616  0.007919  0.006710       0  \n",
       "89       0.002205  0.008423  0.006954       0  \n",
       "104      1.003906  0.008949  0.736816       1  \n",
       "105      1.004883  0.002125  0.733398       1  \n",
       "...           ...       ...       ...     ...  \n",
       "5531405  0.008591  0.009415  0.007069       0  \n",
       "5531406  0.003016  0.001254  0.007778       0  \n",
       "5531407  0.004288  0.002300  0.006504       0  \n",
       "5531408  0.000594  0.004757  0.003952       0  \n",
       "5531409  0.007442  0.005508  0.002928       0  \n",
       "\n",
       "[820788 rows x 191 columns]"
      ]
     },
     "execution_count": 9,
     "metadata": {},
     "output_type": "execute_result"
    }
   ],
   "source": [
    "train[train['B_30']!=0.0]"
   ]
  },
  {
   "cell_type": "code",
   "execution_count": 10,
   "id": "8cfccb19-3d08-435a-b77b-50e4ba0323c8",
   "metadata": {
    "canvas": {
     "comments": [],
     "componentType": "CodeCell",
     "copiedOriginId": null,
     "headerColor": "inherit",
     "id": "90dc0c53-4043-4c5f-847f-231f6509a06f",
     "isComponent": false,
     "name": "",
     "parents": []
    }
   },
   "outputs": [
    {
     "name": "stdout",
     "output_type": "stream",
     "text": [
      "(191,)\n"
     ]
    }
   ],
   "source": [
    "print(nan_feature.shape)"
   ]
  },
  {
   "cell_type": "code",
   "execution_count": null,
   "id": "5320a5c8-7a99-4b6e-a209-42ddaa8d5668",
   "metadata": {
    "canvas": {
     "comments": [],
     "componentType": "CodeCell",
     "copiedOriginId": null,
     "headerColor": "inherit",
     "id": "248fddf7-3d2d-4a38-86ed-267e6bfcadaf",
     "isComponent": false,
     "name": "",
     "parents": []
    }
   },
   "outputs": [],
   "source": []
  }
 ],
 "metadata": {
  "canvas": {
   "colorPalette": [
    "inherit",
    "inherit",
    "inherit",
    "inherit",
    "inherit",
    "inherit",
    "inherit",
    "inherit",
    "inherit",
    "inherit"
   ],
   "parameters": [],
   "version": "1.0"
  },
  "kernelspec": {
   "display_name": "Python 3 (ipykernel)",
   "language": "python",
   "name": "python3"
  },
  "language_info": {
   "codemirror_mode": {
    "name": "ipython",
    "version": 3
   },
   "file_extension": ".py",
   "mimetype": "text/x-python",
   "name": "python",
   "nbconvert_exporter": "python",
   "pygments_lexer": "ipython3",
   "version": "3.7.6"
  }
 },
 "nbformat": 4,
 "nbformat_minor": 5
}
